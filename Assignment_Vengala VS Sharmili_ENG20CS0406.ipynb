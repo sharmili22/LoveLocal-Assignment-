{
 "cells": [
  {
   "cell_type": "code",
   "execution_count": 2,
   "id": "d2dd4c0a",
   "metadata": {},
   "outputs": [
    {
     "name": "stdout",
     "output_type": "stream",
     "text": [
      "Enter a string: Hello world\n",
      "5\n"
     ]
    }
   ],
   "source": [
    "#Easy 1. Given a string s consisting of words and spaces, return the length of the last word in the string.\n",
    "def length_of_last_word(s):\n",
    "    words = s.split()\n",
    "\n",
    "    if len(words) == 0:\n",
    "        return 0\n",
    "\n",
    "    return len(words[-1])\n",
    "\n",
    "input_string = input(\"Enter a string: \")\n",
    "result = length_of_last_word(input_string)\n",
    "print(result)"
   ]
  },
  {
   "cell_type": "code",
   "execution_count": 3,
   "id": "8f1de3b5",
   "metadata": {},
   "outputs": [
    {
     "name": "stdout",
     "output_type": "stream",
     "text": [
      "Enter the number of rows for Pascal's triangle: 5\n",
      "[[1], [1, 1], [1, 2, 1], [1, 3, 3, 1], [1, 4, 6, 4, 1]]\n"
     ]
    }
   ],
   "source": [
    "#Easy 2. Given an integer numRows, return the first numRows of Pascal's triangle.\n",
    "def pascals_triangle(numrows):\n",
    "    triangle = []\n",
    "\n",
    "    for i in range(numrows):\n",
    "        row = [1] * (i + 1)\n",
    "\n",
    "        if i > 1:\n",
    "            for j in range(1, i):\n",
    "                row[j] = triangle[i - 1][j - 1] + triangle[i - 1][j]\n",
    "\n",
    "        triangle.append(row)\n",
    "\n",
    "    return triangle\n",
    "\n",
    "numrows = int(input(\"Enter the number of rows for Pascal's triangle: \"))\n",
    "result = pascals_triangle(numrows)\n",
    "print(result)"
   ]
  },
  {
   "cell_type": "code",
   "execution_count": 5,
   "id": "7f4cee26",
   "metadata": {},
   "outputs": [
    {
     "name": "stdout",
     "output_type": "stream",
     "text": [
      "Enter space-separated values for the BST (use 'null' for null values): 6 2 8 0 4 7 9 null null 3 5\n",
      "Enter the value of the first node: 2\n",
      "Enter the value of the second node: 8\n",
      "Lowest Common Ancestor: 6\n"
     ]
    }
   ],
   "source": [
    "#Medium 1. Given a binary search tree (BST), find the lowest common ancestor (LCA) node of two given nodes in the BST.\n",
    "class TreeNode:\n",
    "    def __init__(self, val=0, left=None, right=None):\n",
    "        self.val = val\n",
    "        self.left = left\n",
    "        self.right = right\n",
    "\n",
    "def lowest_common_ancestor(root, p, q):\n",
    "    if not root or root.val == p.val or root.val == q.val:\n",
    "        return root\n",
    "\n",
    "    if p.val < root.val and q.val < root.val:\n",
    "        return lowest_common_ancestor(root.left, p, q)\n",
    "\n",
    "    elif p.val > root.val and q.val > root.val:\n",
    "        return lowest_common_ancestor(root.right, p, q)\n",
    "\n",
    "    else:\n",
    "        return root\n",
    "\n",
    "def build_bst():\n",
    "    values = input(\"Enter space-separated values for the BST (use 'null' for null values): \").split()\n",
    "    root = None\n",
    "    for val in values:\n",
    "        if val.lower() == 'null':\n",
    "            continue\n",
    "        root = insert(root, int(val))\n",
    "    return root\n",
    "\n",
    "def insert(root, val):\n",
    "    if not root:\n",
    "        return TreeNode(val)\n",
    "    if val < root.val:\n",
    "        root.left = insert(root.left, val)\n",
    "    else:\n",
    "        root.right = insert(root.right, val)\n",
    "    return root\n",
    "\n",
    "root = build_bst()\n",
    "\n",
    "p_val = int(input(\"Enter the value of the first node: \"))\n",
    "q_val = int(input(\"Enter the value of the second node: \"))\n",
    "\n",
    "p = TreeNode(p_val)\n",
    "q = TreeNode(q_val)\n",
    "\n",
    "lca_node = lowest_common_ancestor(root, p, q)\n",
    "if lca_node:\n",
    "    print(\"Lowest Common Ancestor:\", lca_node.val)\n",
    "else:\n",
    "    print(\"No common ancestor found.\")\n"
   ]
  },
  {
   "cell_type": "code",
   "execution_count": 6,
   "id": "4f8efee3",
   "metadata": {},
   "outputs": [
    {
     "name": "stdout",
     "output_type": "stream",
     "text": [
      "Enter space-separated integers: 3 2 3\n",
      "Elements appearing more than ⌊ n/3 ⌋ times: [3]\n"
     ]
    }
   ],
   "source": [
    "#Medium 2. Given an integer array of size n, find all elements that appear more than ⌊ n/3 ⌋ times.\n",
    "def majority_elements(nums):\n",
    "    if not nums:\n",
    "        return []\n",
    "\n",
    "    element1, count1 = None, 0\n",
    "    element2, count2 = None, 0\n",
    "\n",
    "    for num in nums:\n",
    "        if element1 == num:\n",
    "            count1 += 1\n",
    "        elif element2 == num:\n",
    "            count2 += 1\n",
    "        elif count1 == 0:\n",
    "            element1, count1 = num, 1\n",
    "        elif count2 == 0:\n",
    "            element2, count2 = num, 1\n",
    "        else:\n",
    "            count1 -= 1\n",
    "            count2 -= 1\n",
    "\n",
    "    count1 = count2 = 0\n",
    "    for num in nums:\n",
    "        if element1 == num:\n",
    "            count1 += 1\n",
    "        elif element2 == num:\n",
    "            count2 += 1\n",
    "\n",
    "    result = []\n",
    "    if count1 > len(nums) // 3:\n",
    "        result.append(element1)\n",
    "    if count2 > len(nums) // 3:\n",
    "        result.append(element2)\n",
    "\n",
    "    return result\n",
    "\n",
    "nums = list(map(int, input(\"Enter space-separated integers: \").split()))\n",
    "result = majority_elements(nums)\n",
    "print(\"Elements appearing more than ⌊ n/3 ⌋ times:\", result)"
   ]
  },
  {
   "cell_type": "code",
   "execution_count": 7,
   "id": "f314f18c",
   "metadata": {},
   "outputs": [
    {
     "name": "stdout",
     "output_type": "stream",
     "text": [
      "Enter a string: abcd\n",
      "Shortest palindrome: dcbabcd\n"
     ]
    }
   ],
   "source": [
    "#Hard 1. You are given a string s. You can convert s to a palindrome by adding characters in front of it.\n",
    "user_input = input(\"Enter a string: \")\n",
    "\n",
    "def short_palindrome(s):\n",
    "    if s == \"\":\n",
    "        return \"\"\n",
    "\n",
    "    rev_s = s[::-1]\n",
    "    for i in range(len(s), 0, -1):\n",
    "        if s[:i] == rev_s[-i:]:\n",
    "            \n",
    "            break\n",
    "\n",
    "    return rev_s[:-i] + s\n",
    "\n",
    "result = short_palindrome(user_input)\n",
    "print(\"Shortest palindrome:\", result)"
   ]
  },
  {
   "cell_type": "code",
   "execution_count": 8,
   "id": "a9776011",
   "metadata": {},
   "outputs": [
    {
     "name": "stdout",
     "output_type": "stream",
     "text": [
      "Enter an integer n: 13\n",
      "The total number of digit 1 in numbers up to 13 is: 6\n"
     ]
    }
   ],
   "source": [
    "#Hard 2. Given an integer n, count the total number of digit 1 appearing in all non-negative integers less than or equal to n\n",
    "n = int(input(\"Enter an integer n: \"))\n",
    "\n",
    "def count_digitone(n):\n",
    "    count = 0\n",
    "    factor = 1\n",
    "    i = 1\n",
    "\n",
    "    while i <= n:\n",
    "        divisor = i * 10\n",
    "        count += (n // divisor) * i + min(max(n % divisor - i + 1, 0), i)\n",
    "        i *= 10\n",
    "\n",
    "    return count\n",
    "    \n",
    "result = count_digitone(n)\n",
    "print(f\"The total number of digit 1 in numbers up to {n} is: {result}\")"
   ]
  },
  {
   "cell_type": "code",
   "execution_count": null,
   "id": "f110bed1",
   "metadata": {},
   "outputs": [],
   "source": []
  }
 ],
 "metadata": {
  "kernelspec": {
   "display_name": "Python 3",
   "language": "python",
   "name": "python3"
  },
  "language_info": {
   "codemirror_mode": {
    "name": "ipython",
    "version": 3
   },
   "file_extension": ".py",
   "mimetype": "text/x-python",
   "name": "python",
   "nbconvert_exporter": "python",
   "pygments_lexer": "ipython3",
   "version": "3.8.8"
  }
 },
 "nbformat": 4,
 "nbformat_minor": 5
}
